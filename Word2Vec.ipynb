{
 "cells": [
  {
   "cell_type": "markdown",
   "metadata": {},
   "source": [
    "# Word2Vec"
   ]
  },
  {
   "cell_type": "markdown",
   "metadata": {},
   "source": [
    "## Imports"
   ]
  },
  {
   "cell_type": "code",
   "execution_count": 1,
   "metadata": {
    "collapsed": true
   },
   "outputs": [],
   "source": [
    "from __future__ import absolute_import, division, print_function"
   ]
  },
  {
   "cell_type": "code",
   "execution_count": 31,
   "metadata": {
    "collapsed": true
   },
   "outputs": [],
   "source": [
    "import codecs\n",
    "import glob\n",
    "import logging\n",
    "import multiprocessing\n",
    "import os\n",
    "import pprint\n",
    "import re"
   ]
  },
  {
   "cell_type": "code",
   "execution_count": 30,
   "metadata": {
    "collapsed": true
   },
   "outputs": [],
   "source": [
    "import nltk\n",
    "import gensim.models.word2vec as w2v\n",
    "import sklearn.manifold\n",
    "import numpy as np\n",
    "import matplotlib.pyplot as plt\n",
    "import pandas as pd\n",
    "import seaborn as sns"
   ]
  },
  {
   "cell_type": "code",
   "execution_count": 32,
   "metadata": {},
   "outputs": [
    {
     "name": "stdout",
     "output_type": "stream",
     "text": [
      "Populating the interactive namespace from numpy and matplotlib\n"
     ]
    }
   ],
   "source": [
    "%pylab inline"
   ]
  },
  {
   "cell_type": "markdown",
   "metadata": {},
   "source": [
    "**Set up logging**"
   ]
  },
  {
   "cell_type": "code",
   "execution_count": 5,
   "metadata": {
    "collapsed": true
   },
   "outputs": [],
   "source": [
    "logging.basicConfig(format='%(asctime)s : %(levelname)s : %(message)s', level=logging.INFO)"
   ]
  },
  {
   "cell_type": "markdown",
   "metadata": {
    "collapsed": true
   },
   "source": [
    "**Download NLTK tokenizer models (only the first time)**"
   ]
  },
  {
   "cell_type": "code",
   "execution_count": 6,
   "metadata": {},
   "outputs": [
    {
     "name": "stdout",
     "output_type": "stream",
     "text": [
      "[nltk_data] Downloading package punkt to /home/dhingratul/nltk_data...\n",
      "[nltk_data]   Package punkt is already up-to-date!\n",
      "[nltk_data] Downloading package stopwords to\n",
      "[nltk_data]     /home/dhingratul/nltk_data...\n",
      "[nltk_data]   Package stopwords is already up-to-date!\n"
     ]
    },
    {
     "data": {
      "text/plain": [
       "True"
      ]
     },
     "execution_count": 6,
     "metadata": {},
     "output_type": "execute_result"
    }
   ],
   "source": [
    "nltk.download(\"punkt\")\n",
    "nltk.download(\"stopwords\")"
   ]
  },
  {
   "cell_type": "markdown",
   "metadata": {},
   "source": [
    "## Prepare Corpus"
   ]
  },
  {
   "cell_type": "markdown",
   "metadata": {},
   "source": [
    "**Load books from files**"
   ]
  },
  {
   "cell_type": "code",
   "execution_count": 7,
   "metadata": {
    "collapsed": true
   },
   "outputs": [],
   "source": [
    "book_filenames = sorted(glob.glob(\"data/*.txt\"))"
   ]
  },
  {
   "cell_type": "code",
   "execution_count": 8,
   "metadata": {},
   "outputs": [
    {
     "name": "stdout",
     "output_type": "stream",
     "text": [
      "Found books:\n"
     ]
    },
    {
     "data": {
      "text/plain": [
       "['data/got1.txt',\n",
       " 'data/got2.txt',\n",
       " 'data/got3.txt',\n",
       " 'data/got4.txt',\n",
       " 'data/got5.txt']"
      ]
     },
     "execution_count": 8,
     "metadata": {},
     "output_type": "execute_result"
    }
   ],
   "source": [
    "print(\"Found books:\")\n",
    "book_filenames"
   ]
  },
  {
   "cell_type": "markdown",
   "metadata": {},
   "source": [
    "**Combine the books into one string**"
   ]
  },
  {
   "cell_type": "code",
   "execution_count": 9,
   "metadata": {},
   "outputs": [
    {
     "name": "stdout",
     "output_type": "stream",
     "text": [
      "Reading 'data/got1.txt'...\n",
      "Corpus is now 1770659 characters long\n",
      "\n",
      "Reading 'data/got2.txt'...\n",
      "Corpus is now 4071041 characters long\n",
      "\n",
      "Reading 'data/got3.txt'...\n",
      "Corpus is now 6391405 characters long\n",
      "\n",
      "Reading 'data/got4.txt'...\n",
      "Corpus is now 8107945 characters long\n",
      "\n",
      "Reading 'data/got5.txt'...\n",
      "Corpus is now 9719485 characters long\n",
      "\n"
     ]
    }
   ],
   "source": [
    "corpus_raw = u\"\"\n",
    "for book_filename in book_filenames:\n",
    "    print(\"Reading '{0}'...\".format(book_filename))\n",
    "    with codecs.open(book_filename, \"r\", \"utf-8\") as book_file:\n",
    "        corpus_raw += book_file.read()\n",
    "    print(\"Corpus is now {0} characters long\".format(len(corpus_raw)))\n",
    "    print()"
   ]
  },
  {
   "cell_type": "markdown",
   "metadata": {},
   "source": [
    "**Split the corpus into sentences**"
   ]
  },
  {
   "cell_type": "code",
   "execution_count": 10,
   "metadata": {
    "collapsed": true
   },
   "outputs": [],
   "source": [
    "tokenizer = nltk.data.load('tokenizers/punkt/english.pickle')"
   ]
  },
  {
   "cell_type": "code",
   "execution_count": 11,
   "metadata": {},
   "outputs": [
    {
     "name": "stdout",
     "output_type": "stream",
     "text": [
      "NOT ONE WORD HAS BEEN OMITTED.\n"
     ]
    }
   ],
   "source": [
    "raw_sentences = tokenizer.tokenize(corpus_raw)\n",
    "print(raw_sentences[1])"
   ]
  },
  {
   "cell_type": "code",
   "execution_count": 12,
   "metadata": {
    "collapsed": true
   },
   "outputs": [],
   "source": [
    "#convert into a list of words\n",
    "#remove unnnecessary,, split into words, no hyphens\n",
    "#list of words\n",
    "def sentence_to_wordlist(raw):\n",
    "    clean = re.sub(\"[^a-zA-Z]\",\" \", raw)\n",
    "    words = clean.split()\n",
    "    return words"
   ]
  },
  {
   "cell_type": "code",
   "execution_count": 13,
   "metadata": {
    "collapsed": true
   },
   "outputs": [],
   "source": [
    "#sentence where each word is tokenized\n",
    "sentences = []\n",
    "for raw_sentence in raw_sentences:\n",
    "    if len(raw_sentence) > 0:\n",
    "        sentences.append(sentence_to_wordlist(raw_sentence))"
   ]
  },
  {
   "cell_type": "code",
   "execution_count": 14,
   "metadata": {
    "scrolled": true
   },
   "outputs": [
    {
     "name": "stdout",
     "output_type": "stream",
     "text": [
      "Heraldic crest by Virginia Norey.\n",
      "[u'Heraldic', u'crest', u'by', u'Virginia', u'Norey']\n"
     ]
    }
   ],
   "source": [
    "print(raw_sentences[5])\n",
    "print(sentence_to_wordlist(raw_sentences[5]))"
   ]
  },
  {
   "cell_type": "code",
   "execution_count": 15,
   "metadata": {},
   "outputs": [
    {
     "name": "stdout",
     "output_type": "stream",
     "text": [
      "The book corpus contains 1,818,103 tokens\n"
     ]
    }
   ],
   "source": [
    "token_count = sum([len(sentence) for sentence in sentences])\n",
    "print(\"The book corpus contains {0:,} tokens\".format(token_count))"
   ]
  },
  {
   "cell_type": "markdown",
   "metadata": {},
   "source": [
    "## Train Word2Vec"
   ]
  },
  {
   "cell_type": "code",
   "execution_count": 16,
   "metadata": {
    "collapsed": true
   },
   "outputs": [],
   "source": [
    "#ONCE we have vectors\n",
    "#step 3 - build model\n",
    "#3 main tasks that vectors help with\n",
    "#DISTANCE, SIMILARITY, RANKING\n",
    "\n",
    "# Dimensionality of the resulting word vectors.\n",
    "#more dimensions, more computationally expensive to train\n",
    "#but also more accurate\n",
    "#more dimensions = more generalized\n",
    "num_features = 300\n",
    "# Minimum word count threshold.\n",
    "min_word_count = 3\n",
    "\n",
    "# Number of threads to run in parallel.\n",
    "#more workers, faster we train\n",
    "num_workers = multiprocessing.cpu_count()\n",
    "\n",
    "# Context window length.\n",
    "context_size = 7\n",
    "\n",
    "# Downsample setting for frequent words.\n",
    "#0 - 1e-5 is good for this\n",
    "downsampling = 1e-3\n",
    "\n",
    "# Seed for the RNG, to make the results reproducible.\n",
    "#random number generator\n",
    "#deterministic, good for debugging\n",
    "seed = 1"
   ]
  },
  {
   "cell_type": "code",
   "execution_count": 17,
   "metadata": {
    "collapsed": true
   },
   "outputs": [],
   "source": [
    "thrones2vec = w2v.Word2Vec(\n",
    "    sg=1,\n",
    "    seed=seed,\n",
    "    workers=num_workers,\n",
    "    size=num_features,\n",
    "    min_count=min_word_count,\n",
    "    window=context_size,\n",
    "    sample=downsampling\n",
    ")\n",
    "# sg = 1 Skipgram Model"
   ]
  },
  {
   "cell_type": "code",
   "execution_count": 18,
   "metadata": {},
   "outputs": [
    {
     "name": "stderr",
     "output_type": "stream",
     "text": [
      "2017-11-13 22:56:18,394 : INFO : collecting all words and their counts\n",
      "2017-11-13 22:56:18,397 : INFO : PROGRESS: at sentence #0, processed 0 words, keeping 0 word types\n",
      "2017-11-13 22:56:18,448 : INFO : PROGRESS: at sentence #10000, processed 140984 words, keeping 10280 word types\n",
      "2017-11-13 22:56:18,482 : INFO : PROGRESS: at sentence #20000, processed 279730 words, keeping 13558 word types\n",
      "2017-11-13 22:56:18,513 : INFO : PROGRESS: at sentence #30000, processed 420336 words, keeping 16598 word types\n",
      "2017-11-13 22:56:18,544 : INFO : PROGRESS: at sentence #40000, processed 556581 words, keeping 18324 word types\n",
      "2017-11-13 22:56:18,571 : INFO : PROGRESS: at sentence #50000, processed 686247 words, keeping 19714 word types\n",
      "2017-11-13 22:56:18,600 : INFO : PROGRESS: at sentence #60000, processed 828497 words, keeping 21672 word types\n",
      "2017-11-13 22:56:18,636 : INFO : PROGRESS: at sentence #70000, processed 973830 words, keeping 23093 word types\n",
      "2017-11-13 22:56:18,672 : INFO : PROGRESS: at sentence #80000, processed 1114967 words, keeping 24252 word types\n",
      "2017-11-13 22:56:18,708 : INFO : PROGRESS: at sentence #90000, processed 1260481 words, keeping 26007 word types\n",
      "2017-11-13 22:56:18,741 : INFO : PROGRESS: at sentence #100000, processed 1393203 words, keeping 26884 word types\n",
      "2017-11-13 22:56:18,777 : INFO : PROGRESS: at sentence #110000, processed 1532150 words, keeping 27809 word types\n",
      "2017-11-13 22:56:18,810 : INFO : PROGRESS: at sentence #120000, processed 1680961 words, keeping 28486 word types\n",
      "2017-11-13 22:56:18,842 : INFO : collected 29026 word types from a corpus of 1818103 raw words and 128868 sentences\n",
      "2017-11-13 22:56:18,843 : INFO : Loading a fresh vocabulary\n",
      "2017-11-13 22:56:18,889 : INFO : min_count=3 retains 17277 unique words (59% of original 29026, drops 11749)\n",
      "2017-11-13 22:56:18,890 : INFO : min_count=3 leaves 1802699 word corpus (99% of original 1818103, drops 15404)\n",
      "2017-11-13 22:56:18,928 : INFO : deleting the raw counts dictionary of 29026 items\n",
      "2017-11-13 22:56:18,930 : INFO : sample=0.001 downsamples 50 most-common words\n",
      "2017-11-13 22:56:18,930 : INFO : downsampling leaves estimated 1404424 word corpus (77.9% of prior 1802699)\n",
      "2017-11-13 22:56:18,931 : INFO : estimated required memory for 17277 words and 300 dimensions: 50103300 bytes\n",
      "2017-11-13 22:56:18,984 : INFO : resetting layer weights\n"
     ]
    }
   ],
   "source": [
    "thrones2vec.build_vocab(sentences)"
   ]
  },
  {
   "cell_type": "code",
   "execution_count": 19,
   "metadata": {
    "scrolled": true
   },
   "outputs": [
    {
     "name": "stdout",
     "output_type": "stream",
     "text": [
      "Word2Vec vocabulary length: 17277\n"
     ]
    }
   ],
   "source": [
    "print(\"Word2Vec vocabulary length:\", len(thrones2vec.wv.vocab))"
   ]
  },
  {
   "cell_type": "markdown",
   "metadata": {},
   "source": [
    "**Start training, this might take a minute or two...**"
   ]
  },
  {
   "cell_type": "code",
   "execution_count": 31,
   "metadata": {},
   "outputs": [
    {
     "name": "stderr",
     "output_type": "stream",
     "text": [
      "2017-11-13 22:19:59,486 : INFO : training model with 8 workers on 17277 vocabulary and 300 features, using sg=1 hs=0 sample=0.001 negative=5 window=7\n",
      "2017-11-13 22:20:00,501 : INFO : PROGRESS: at 0.25% words, 353355 words/s, in_qsize 16, out_qsize 0\n",
      "2017-11-13 22:20:01,509 : INFO : PROGRESS: at 0.55% words, 387530 words/s, in_qsize 16, out_qsize 0\n",
      "2017-11-13 22:20:02,517 : INFO : PROGRESS: at 0.83% words, 386017 words/s, in_qsize 16, out_qsize 0\n",
      "2017-11-13 22:20:03,522 : INFO : PROGRESS: at 1.11% words, 387069 words/s, in_qsize 16, out_qsize 0\n",
      "2017-11-13 22:20:04,547 : INFO : PROGRESS: at 1.39% words, 386553 words/s, in_qsize 16, out_qsize 0\n",
      "2017-11-13 22:20:05,587 : INFO : PROGRESS: at 1.65% words, 381371 words/s, in_qsize 16, out_qsize 0\n",
      "2017-11-13 22:20:06,593 : INFO : PROGRESS: at 1.94% words, 384757 words/s, in_qsize 16, out_qsize 0\n",
      "2017-11-13 22:20:07,597 : INFO : PROGRESS: at 2.23% words, 386522 words/s, in_qsize 16, out_qsize 0\n",
      "2017-11-13 22:20:08,626 : INFO : PROGRESS: at 2.52% words, 387744 words/s, in_qsize 16, out_qsize 0\n",
      "2017-11-13 22:20:09,630 : INFO : PROGRESS: at 2.78% words, 385897 words/s, in_qsize 14, out_qsize 1\n",
      "2017-11-13 22:20:10,712 : INFO : PROGRESS: at 3.04% words, 380822 words/s, in_qsize 16, out_qsize 0\n",
      "2017-11-13 22:20:11,727 : INFO : PROGRESS: at 3.31% words, 379530 words/s, in_qsize 16, out_qsize 0\n",
      "2017-11-13 22:20:12,739 : INFO : PROGRESS: at 3.57% words, 379149 words/s, in_qsize 16, out_qsize 0\n",
      "2017-11-13 22:20:13,741 : INFO : PROGRESS: at 3.87% words, 381140 words/s, in_qsize 16, out_qsize 0\n",
      "2017-11-13 22:20:14,747 : INFO : PROGRESS: at 4.15% words, 382269 words/s, in_qsize 16, out_qsize 0\n",
      "2017-11-13 22:20:15,765 : INFO : PROGRESS: at 4.45% words, 384022 words/s, in_qsize 15, out_qsize 0\n",
      "2017-11-13 22:20:16,764 : INFO : PROGRESS: at 4.73% words, 384581 words/s, in_qsize 16, out_qsize 0\n",
      "2017-11-13 22:20:17,786 : INFO : PROGRESS: at 5.02% words, 385355 words/s, in_qsize 16, out_qsize 0\n",
      "2017-11-13 22:20:18,794 : INFO : PROGRESS: at 5.31% words, 386530 words/s, in_qsize 16, out_qsize 0\n",
      "2017-11-13 22:20:19,806 : INFO : PROGRESS: at 5.62% words, 388537 words/s, in_qsize 16, out_qsize 0\n",
      "2017-11-13 22:20:20,828 : INFO : PROGRESS: at 5.90% words, 388333 words/s, in_qsize 16, out_qsize 0\n",
      "2017-11-13 22:20:21,876 : INFO : PROGRESS: at 6.20% words, 389077 words/s, in_qsize 16, out_qsize 0\n",
      "2017-11-13 22:20:22,879 : INFO : PROGRESS: at 6.49% words, 389925 words/s, in_qsize 16, out_qsize 0\n",
      "2017-11-13 22:20:23,883 : INFO : PROGRESS: at 6.79% words, 391275 words/s, in_qsize 16, out_qsize 0\n",
      "2017-11-13 22:20:24,903 : INFO : PROGRESS: at 7.08% words, 391311 words/s, in_qsize 16, out_qsize 0\n",
      "2017-11-13 22:20:25,930 : INFO : PROGRESS: at 7.39% words, 392494 words/s, in_qsize 16, out_qsize 0\n",
      "2017-11-13 22:20:26,957 : INFO : PROGRESS: at 7.67% words, 392444 words/s, in_qsize 15, out_qsize 1\n",
      "2017-11-13 22:20:27,941 : INFO : PROGRESS: at 7.93% words, 391304 words/s, in_qsize 16, out_qsize 0\n",
      "2017-11-13 22:20:28,944 : INFO : PROGRESS: at 8.21% words, 391324 words/s, in_qsize 16, out_qsize 0\n",
      "2017-11-13 22:20:29,948 : INFO : PROGRESS: at 8.51% words, 392413 words/s, in_qsize 16, out_qsize 1\n",
      "2017-11-13 22:20:30,949 : INFO : PROGRESS: at 8.78% words, 392193 words/s, in_qsize 16, out_qsize 0\n",
      "2017-11-13 22:20:31,963 : INFO : PROGRESS: at 9.07% words, 392498 words/s, in_qsize 16, out_qsize 0\n",
      "2017-11-13 22:20:32,980 : INFO : PROGRESS: at 9.33% words, 391195 words/s, in_qsize 16, out_qsize 0\n",
      "2017-11-13 22:20:33,998 : INFO : PROGRESS: at 9.62% words, 391526 words/s, in_qsize 16, out_qsize 0\n",
      "2017-11-13 22:20:35,007 : INFO : PROGRESS: at 9.88% words, 390813 words/s, in_qsize 16, out_qsize 0\n",
      "2017-11-13 22:20:36,068 : INFO : PROGRESS: at 10.18% words, 391058 words/s, in_qsize 16, out_qsize 0\n",
      "2017-11-13 22:20:37,111 : INFO : PROGRESS: at 10.49% words, 391741 words/s, in_qsize 16, out_qsize 0\n",
      "2017-11-13 22:20:38,115 : INFO : PROGRESS: at 10.81% words, 392942 words/s, in_qsize 16, out_qsize 0\n",
      "2017-11-13 22:20:39,124 : INFO : PROGRESS: at 11.09% words, 393040 words/s, in_qsize 16, out_qsize 0\n",
      "2017-11-13 22:20:40,178 : INFO : PROGRESS: at 11.37% words, 392551 words/s, in_qsize 16, out_qsize 0\n",
      "2017-11-13 22:20:41,186 : INFO : PROGRESS: at 11.68% words, 393444 words/s, in_qsize 16, out_qsize 0\n",
      "2017-11-13 22:20:42,216 : INFO : PROGRESS: at 11.98% words, 393681 words/s, in_qsize 16, out_qsize 0\n",
      "2017-11-13 22:20:43,254 : INFO : PROGRESS: at 12.27% words, 393689 words/s, in_qsize 16, out_qsize 0\n",
      "2017-11-13 22:20:44,266 : INFO : PROGRESS: at 12.54% words, 393432 words/s, in_qsize 16, out_qsize 0\n",
      "2017-11-13 22:20:45,278 : INFO : PROGRESS: at 12.83% words, 393666 words/s, in_qsize 16, out_qsize 0\n",
      "2017-11-13 22:20:46,292 : INFO : PROGRESS: at 13.11% words, 393358 words/s, in_qsize 15, out_qsize 0\n",
      "2017-11-13 22:20:47,298 : INFO : PROGRESS: at 13.39% words, 393491 words/s, in_qsize 16, out_qsize 0\n",
      "2017-11-13 22:20:48,300 : INFO : PROGRESS: at 13.68% words, 393806 words/s, in_qsize 16, out_qsize 0\n",
      "2017-11-13 22:20:49,330 : INFO : PROGRESS: at 13.98% words, 393853 words/s, in_qsize 16, out_qsize 0\n",
      "2017-11-13 22:20:50,338 : INFO : PROGRESS: at 14.27% words, 394246 words/s, in_qsize 16, out_qsize 0\n",
      "2017-11-13 22:20:51,372 : INFO : PROGRESS: at 14.56% words, 394136 words/s, in_qsize 16, out_qsize 0\n",
      "2017-11-13 22:20:52,373 : INFO : PROGRESS: at 14.85% words, 394546 words/s, in_qsize 16, out_qsize 0\n",
      "2017-11-13 22:20:53,381 : INFO : PROGRESS: at 15.14% words, 394600 words/s, in_qsize 16, out_qsize 0\n",
      "2017-11-13 22:20:54,420 : INFO : PROGRESS: at 15.44% words, 394744 words/s, in_qsize 15, out_qsize 0\n",
      "2017-11-13 22:20:55,440 : INFO : PROGRESS: at 15.74% words, 395134 words/s, in_qsize 15, out_qsize 0\n",
      "2017-11-13 22:20:56,456 : INFO : PROGRESS: at 16.03% words, 395249 words/s, in_qsize 16, out_qsize 0\n",
      "2017-11-13 22:20:57,485 : INFO : PROGRESS: at 16.33% words, 395433 words/s, in_qsize 16, out_qsize 0\n",
      "2017-11-13 22:20:58,530 : INFO : PROGRESS: at 16.60% words, 394994 words/s, in_qsize 16, out_qsize 0\n",
      "2017-11-13 22:20:59,554 : INFO : PROGRESS: at 16.91% words, 395428 words/s, in_qsize 16, out_qsize 0\n",
      "2017-11-13 22:21:00,584 : INFO : PROGRESS: at 17.22% words, 395827 words/s, in_qsize 16, out_qsize 0\n",
      "2017-11-13 22:21:01,591 : INFO : PROGRESS: at 17.50% words, 395759 words/s, in_qsize 16, out_qsize 0\n",
      "2017-11-13 22:21:02,605 : INFO : PROGRESS: at 17.81% words, 396260 words/s, in_qsize 16, out_qsize 0\n",
      "2017-11-13 22:21:03,606 : INFO : PROGRESS: at 18.09% words, 396307 words/s, in_qsize 16, out_qsize 0\n",
      "2017-11-13 22:21:04,623 : INFO : PROGRESS: at 18.37% words, 396179 words/s, in_qsize 15, out_qsize 0\n",
      "2017-11-13 22:21:05,662 : INFO : PROGRESS: at 18.64% words, 395680 words/s, in_qsize 16, out_qsize 0\n",
      "2017-11-13 22:21:06,690 : INFO : PROGRESS: at 18.90% words, 395005 words/s, in_qsize 16, out_qsize 0\n",
      "2017-11-13 22:21:07,723 : INFO : PROGRESS: at 19.15% words, 394218 words/s, in_qsize 16, out_qsize 0\n",
      "2017-11-13 22:21:08,775 : INFO : PROGRESS: at 19.41% words, 393471 words/s, in_qsize 16, out_qsize 0\n",
      "2017-11-13 22:21:09,795 : INFO : PROGRESS: at 19.65% words, 392498 words/s, in_qsize 16, out_qsize 0\n",
      "2017-11-13 22:21:10,812 : INFO : PROGRESS: at 19.88% words, 391541 words/s, in_qsize 16, out_qsize 0\n",
      "2017-11-13 22:21:11,854 : INFO : PROGRESS: at 20.13% words, 390695 words/s, in_qsize 16, out_qsize 0\n",
      "2017-11-13 22:21:12,890 : INFO : PROGRESS: at 20.35% words, 389501 words/s, in_qsize 16, out_qsize 0\n",
      "2017-11-13 22:21:13,915 : INFO : PROGRESS: at 20.59% words, 388600 words/s, in_qsize 16, out_qsize 0\n",
      "2017-11-13 22:21:14,918 : INFO : PROGRESS: at 20.82% words, 387722 words/s, in_qsize 16, out_qsize 0\n",
      "2017-11-13 22:21:15,923 : INFO : PROGRESS: at 21.08% words, 387360 words/s, in_qsize 16, out_qsize 0\n",
      "2017-11-13 22:21:16,945 : INFO : PROGRESS: at 21.34% words, 386936 words/s, in_qsize 16, out_qsize 0\n",
      "2017-11-13 22:21:17,951 : INFO : PROGRESS: at 21.60% words, 386608 words/s, in_qsize 16, out_qsize 0\n",
      "2017-11-13 22:21:18,963 : INFO : PROGRESS: at 21.85% words, 386143 words/s, in_qsize 16, out_qsize 0\n",
      "2017-11-13 22:21:20,023 : INFO : PROGRESS: at 22.11% words, 385647 words/s, in_qsize 15, out_qsize 0\n",
      "2017-11-13 22:21:21,073 : INFO : PROGRESS: at 22.34% words, 384663 words/s, in_qsize 16, out_qsize 0\n"
     ]
    },
    {
     "name": "stderr",
     "output_type": "stream",
     "text": [
      "2017-11-13 22:21:22,099 : INFO : PROGRESS: at 22.58% words, 383909 words/s, in_qsize 16, out_qsize 0\n",
      "2017-11-13 22:21:23,128 : INFO : PROGRESS: at 22.81% words, 382970 words/s, in_qsize 16, out_qsize 0\n",
      "2017-11-13 22:21:24,175 : INFO : PROGRESS: at 23.04% words, 382042 words/s, in_qsize 15, out_qsize 0\n",
      "2017-11-13 22:21:25,181 : INFO : PROGRESS: at 23.23% words, 380808 words/s, in_qsize 15, out_qsize 0\n",
      "2017-11-13 22:21:26,183 : INFO : PROGRESS: at 23.43% words, 379529 words/s, in_qsize 16, out_qsize 0\n",
      "2017-11-13 22:21:27,192 : INFO : PROGRESS: at 23.65% words, 378781 words/s, in_qsize 16, out_qsize 0\n",
      "2017-11-13 22:21:28,204 : INFO : PROGRESS: at 23.85% words, 377665 words/s, in_qsize 16, out_qsize 0\n",
      "2017-11-13 22:21:29,210 : INFO : PROGRESS: at 24.04% words, 376258 words/s, in_qsize 16, out_qsize 0\n",
      "2017-11-13 22:21:30,211 : INFO : PROGRESS: at 24.23% words, 375091 words/s, in_qsize 16, out_qsize 0\n",
      "2017-11-13 22:21:31,235 : INFO : PROGRESS: at 24.44% words, 374107 words/s, in_qsize 16, out_qsize 0\n",
      "2017-11-13 22:21:32,242 : INFO : PROGRESS: at 24.65% words, 373302 words/s, in_qsize 16, out_qsize 0\n",
      "2017-11-13 22:21:33,261 : INFO : PROGRESS: at 24.84% words, 372117 words/s, in_qsize 16, out_qsize 0\n",
      "2017-11-13 22:21:34,269 : INFO : PROGRESS: at 25.05% words, 371270 words/s, in_qsize 14, out_qsize 0\n",
      "2017-11-13 22:21:35,281 : INFO : PROGRESS: at 25.26% words, 370384 words/s, in_qsize 16, out_qsize 0\n",
      "2017-11-13 22:21:36,356 : INFO : PROGRESS: at 25.49% words, 369625 words/s, in_qsize 16, out_qsize 0\n",
      "2017-11-13 22:21:37,360 : INFO : PROGRESS: at 25.72% words, 369148 words/s, in_qsize 16, out_qsize 0\n",
      "2017-11-13 22:21:38,396 : INFO : PROGRESS: at 25.95% words, 368470 words/s, in_qsize 16, out_qsize 0\n",
      "2017-11-13 22:21:39,404 : INFO : PROGRESS: at 26.20% words, 368223 words/s, in_qsize 16, out_qsize 0\n",
      "2017-11-13 22:21:40,418 : INFO : PROGRESS: at 26.43% words, 367818 words/s, in_qsize 15, out_qsize 0\n",
      "2017-11-13 22:21:41,428 : INFO : PROGRESS: at 26.67% words, 367508 words/s, in_qsize 16, out_qsize 0\n",
      "2017-11-13 22:21:42,429 : INFO : PROGRESS: at 26.88% words, 366778 words/s, in_qsize 16, out_qsize 0\n",
      "2017-11-13 22:21:43,461 : INFO : PROGRESS: at 27.12% words, 366324 words/s, in_qsize 15, out_qsize 0\n",
      "2017-11-13 22:21:44,473 : INFO : PROGRESS: at 27.35% words, 365886 words/s, in_qsize 16, out_qsize 0\n",
      "2017-11-13 22:21:45,539 : INFO : PROGRESS: at 27.57% words, 365122 words/s, in_qsize 16, out_qsize 1\n",
      "2017-11-13 22:21:46,547 : INFO : PROGRESS: at 27.80% words, 364712 words/s, in_qsize 16, out_qsize 0\n",
      "2017-11-13 22:21:47,553 : INFO : PROGRESS: at 28.01% words, 364090 words/s, in_qsize 16, out_qsize 0\n",
      "2017-11-13 22:21:48,574 : INFO : PROGRESS: at 28.24% words, 363583 words/s, in_qsize 16, out_qsize 0\n",
      "2017-11-13 22:21:49,618 : INFO : PROGRESS: at 28.46% words, 363014 words/s, in_qsize 16, out_qsize 0\n",
      "2017-11-13 22:21:50,644 : INFO : PROGRESS: at 28.68% words, 362443 words/s, in_qsize 16, out_qsize 0\n",
      "2017-11-13 22:21:51,646 : INFO : PROGRESS: at 28.93% words, 362295 words/s, in_qsize 16, out_qsize 0\n",
      "2017-11-13 22:21:52,662 : INFO : PROGRESS: at 29.15% words, 361769 words/s, in_qsize 15, out_qsize 0\n",
      "2017-11-13 22:21:53,665 : INFO : PROGRESS: at 29.37% words, 361233 words/s, in_qsize 16, out_qsize 0\n",
      "2017-11-13 22:21:54,690 : INFO : PROGRESS: at 29.60% words, 360907 words/s, in_qsize 16, out_qsize 0\n",
      "2017-11-13 22:21:55,703 : INFO : PROGRESS: at 29.82% words, 360351 words/s, in_qsize 16, out_qsize 0\n",
      "2017-11-13 22:21:56,707 : INFO : PROGRESS: at 30.04% words, 359950 words/s, in_qsize 16, out_qsize 0\n",
      "2017-11-13 22:21:57,732 : INFO : PROGRESS: at 30.24% words, 359249 words/s, in_qsize 16, out_qsize 0\n",
      "2017-11-13 22:21:58,766 : INFO : PROGRESS: at 30.48% words, 358854 words/s, in_qsize 16, out_qsize 0\n",
      "2017-11-13 22:21:59,769 : INFO : PROGRESS: at 30.68% words, 358306 words/s, in_qsize 16, out_qsize 0\n",
      "2017-11-13 22:22:00,795 : INFO : PROGRESS: at 30.90% words, 357750 words/s, in_qsize 16, out_qsize 0\n",
      "2017-11-13 22:22:01,810 : INFO : PROGRESS: at 31.14% words, 357493 words/s, in_qsize 16, out_qsize 0\n",
      "2017-11-13 22:22:02,816 : INFO : PROGRESS: at 31.37% words, 357211 words/s, in_qsize 16, out_qsize 0\n",
      "2017-11-13 22:22:03,824 : INFO : PROGRESS: at 31.57% words, 356676 words/s, in_qsize 15, out_qsize 0\n",
      "2017-11-13 22:22:04,835 : INFO : PROGRESS: at 31.81% words, 356446 words/s, in_qsize 16, out_qsize 0\n",
      "2017-11-13 22:22:05,891 : INFO : PROGRESS: at 32.04% words, 356025 words/s, in_qsize 16, out_qsize 0\n",
      "2017-11-13 22:22:06,909 : INFO : PROGRESS: at 32.29% words, 355970 words/s, in_qsize 16, out_qsize 0\n",
      "2017-11-13 22:22:07,915 : INFO : PROGRESS: at 32.49% words, 355350 words/s, in_qsize 15, out_qsize 0\n",
      "2017-11-13 22:22:08,918 : INFO : PROGRESS: at 32.72% words, 355040 words/s, in_qsize 16, out_qsize 0\n",
      "2017-11-13 22:22:09,926 : INFO : PROGRESS: at 32.95% words, 354777 words/s, in_qsize 16, out_qsize 0\n",
      "2017-11-13 22:22:10,934 : INFO : PROGRESS: at 33.14% words, 354111 words/s, in_qsize 16, out_qsize 0\n",
      "2017-11-13 22:22:11,946 : INFO : PROGRESS: at 33.38% words, 353914 words/s, in_qsize 16, out_qsize 0\n",
      "2017-11-13 22:22:12,947 : INFO : PROGRESS: at 33.63% words, 353925 words/s, in_qsize 16, out_qsize 0\n",
      "2017-11-13 22:22:13,962 : INFO : PROGRESS: at 33.87% words, 353774 words/s, in_qsize 15, out_qsize 0\n",
      "2017-11-13 22:22:14,992 : INFO : PROGRESS: at 34.10% words, 353471 words/s, in_qsize 16, out_qsize 0\n",
      "2017-11-13 22:22:16,029 : INFO : PROGRESS: at 34.37% words, 353503 words/s, in_qsize 16, out_qsize 0\n",
      "2017-11-13 22:22:17,057 : INFO : PROGRESS: at 34.62% words, 353450 words/s, in_qsize 16, out_qsize 0\n",
      "2017-11-13 22:22:18,079 : INFO : PROGRESS: at 34.88% words, 353453 words/s, in_qsize 16, out_qsize 0\n",
      "2017-11-13 22:22:19,088 : INFO : PROGRESS: at 35.15% words, 353620 words/s, in_qsize 15, out_qsize 0\n",
      "2017-11-13 22:22:20,119 : INFO : PROGRESS: at 35.39% words, 353432 words/s, in_qsize 16, out_qsize 0\n",
      "2017-11-13 22:22:21,160 : INFO : PROGRESS: at 35.65% words, 353457 words/s, in_qsize 16, out_qsize 0\n",
      "2017-11-13 22:22:22,179 : INFO : PROGRESS: at 35.91% words, 353466 words/s, in_qsize 16, out_qsize 0\n",
      "2017-11-13 22:22:23,197 : INFO : PROGRESS: at 36.16% words, 353430 words/s, in_qsize 16, out_qsize 0\n",
      "2017-11-13 22:22:24,222 : INFO : PROGRESS: at 36.39% words, 353118 words/s, in_qsize 16, out_qsize 0\n",
      "2017-11-13 22:22:25,258 : INFO : PROGRESS: at 36.61% words, 352784 words/s, in_qsize 16, out_qsize 0\n",
      "2017-11-13 22:22:26,265 : INFO : PROGRESS: at 36.83% words, 352412 words/s, in_qsize 15, out_qsize 0\n",
      "2017-11-13 22:22:27,282 : INFO : PROGRESS: at 37.08% words, 352379 words/s, in_qsize 15, out_qsize 0\n",
      "2017-11-13 22:22:28,299 : INFO : PROGRESS: at 37.29% words, 351943 words/s, in_qsize 16, out_qsize 0\n",
      "2017-11-13 22:22:29,306 : INFO : PROGRESS: at 37.53% words, 351795 words/s, in_qsize 16, out_qsize 0\n",
      "2017-11-13 22:22:30,321 : INFO : PROGRESS: at 37.75% words, 351529 words/s, in_qsize 16, out_qsize 0\n",
      "2017-11-13 22:22:31,364 : INFO : PROGRESS: at 38.00% words, 351441 words/s, in_qsize 16, out_qsize 0\n",
      "2017-11-13 22:22:32,375 : INFO : PROGRESS: at 38.22% words, 351138 words/s, in_qsize 16, out_qsize 0\n",
      "2017-11-13 22:22:33,422 : INFO : PROGRESS: at 38.45% words, 350810 words/s, in_qsize 16, out_qsize 0\n",
      "2017-11-13 22:22:34,429 : INFO : PROGRESS: at 38.69% words, 350726 words/s, in_qsize 15, out_qsize 0\n",
      "2017-11-13 22:22:35,436 : INFO : PROGRESS: at 38.90% words, 350385 words/s, in_qsize 16, out_qsize 0\n",
      "2017-11-13 22:22:36,474 : INFO : PROGRESS: at 39.14% words, 350178 words/s, in_qsize 16, out_qsize 0\n",
      "2017-11-13 22:22:37,501 : INFO : PROGRESS: at 39.37% words, 349908 words/s, in_qsize 16, out_qsize 0\n",
      "2017-11-13 22:22:38,511 : INFO : PROGRESS: at 39.61% words, 349828 words/s, in_qsize 16, out_qsize 0\n",
      "2017-11-13 22:22:39,531 : INFO : PROGRESS: at 39.83% words, 349574 words/s, in_qsize 15, out_qsize 0\n",
      "2017-11-13 22:22:40,537 : INFO : PROGRESS: at 40.05% words, 349298 words/s, in_qsize 16, out_qsize 0\n",
      "2017-11-13 22:22:41,565 : INFO : PROGRESS: at 40.30% words, 349230 words/s, in_qsize 16, out_qsize 0\n",
      "2017-11-13 22:22:42,603 : INFO : PROGRESS: at 40.50% words, 348761 words/s, in_qsize 16, out_qsize 0\n",
      "2017-11-13 22:22:43,616 : INFO : PROGRESS: at 40.72% words, 348442 words/s, in_qsize 16, out_qsize 0\n",
      "2017-11-13 22:22:44,626 : INFO : PROGRESS: at 40.94% words, 348176 words/s, in_qsize 16, out_qsize 0\n"
     ]
    },
    {
     "name": "stderr",
     "output_type": "stream",
     "text": [
      "2017-11-13 22:22:45,627 : INFO : PROGRESS: at 41.18% words, 348166 words/s, in_qsize 16, out_qsize 0\n",
      "2017-11-13 22:22:46,665 : INFO : PROGRESS: at 41.39% words, 347717 words/s, in_qsize 16, out_qsize 0\n",
      "2017-11-13 22:22:47,669 : INFO : PROGRESS: at 41.59% words, 347341 words/s, in_qsize 16, out_qsize 0\n",
      "2017-11-13 22:22:48,670 : INFO : PROGRESS: at 41.81% words, 347060 words/s, in_qsize 16, out_qsize 0\n",
      "2017-11-13 22:22:49,777 : INFO : PROGRESS: at 42.03% words, 346609 words/s, in_qsize 16, out_qsize 0\n",
      "2017-11-13 22:22:50,811 : INFO : PROGRESS: at 42.27% words, 346502 words/s, in_qsize 16, out_qsize 0\n",
      "2017-11-13 22:22:51,821 : INFO : PROGRESS: at 42.51% words, 346447 words/s, in_qsize 16, out_qsize 0\n"
     ]
    },
    {
     "ename": "KeyboardInterrupt",
     "evalue": "",
     "output_type": "error",
     "traceback": [
      "\u001b[0;31m---------------------------------------------------------------------------\u001b[0m",
      "\u001b[0;31mKeyboardInterrupt\u001b[0m                         Traceback (most recent call last)",
      "\u001b[0;32m<ipython-input-31-01498289c681>\u001b[0m in \u001b[0;36m<module>\u001b[0;34m()\u001b[0m\n\u001b[0;32m----> 1\u001b[0;31m \u001b[0mthrones2vec\u001b[0m\u001b[0;34m.\u001b[0m\u001b[0mtrain\u001b[0m\u001b[0;34m(\u001b[0m\u001b[0msentences\u001b[0m\u001b[0;34m,\u001b[0m \u001b[0mtotal_words\u001b[0m\u001b[0;34m=\u001b[0m\u001b[0mtoken_count\u001b[0m\u001b[0;34m,\u001b[0m \u001b[0mepochs\u001b[0m\u001b[0;34m=\u001b[0m\u001b[0;36m100\u001b[0m\u001b[0;34m)\u001b[0m\u001b[0;34m\u001b[0m\u001b[0m\n\u001b[0m",
      "\u001b[0;32m/home/dhingratul/anaconda2/lib/python2.7/site-packages/gensim/models/word2vec.pyc\u001b[0m in \u001b[0;36mtrain\u001b[0;34m(self, sentences, total_examples, total_words, epochs, start_alpha, end_alpha, word_count, queue_factor, report_delay, compute_loss)\u001b[0m\n\u001b[1;32m   1011\u001b[0m \u001b[0;34m\u001b[0m\u001b[0m\n\u001b[1;32m   1012\u001b[0m         \u001b[0;32mwhile\u001b[0m \u001b[0munfinished_worker_count\u001b[0m \u001b[0;34m>\u001b[0m \u001b[0;36m0\u001b[0m\u001b[0;34m:\u001b[0m\u001b[0;34m\u001b[0m\u001b[0m\n\u001b[0;32m-> 1013\u001b[0;31m             \u001b[0mreport\u001b[0m \u001b[0;34m=\u001b[0m \u001b[0mprogress_queue\u001b[0m\u001b[0;34m.\u001b[0m\u001b[0mget\u001b[0m\u001b[0;34m(\u001b[0m\u001b[0;34m)\u001b[0m  \u001b[0;31m# blocks if workers too slow\u001b[0m\u001b[0;34m\u001b[0m\u001b[0m\n\u001b[0m\u001b[1;32m   1014\u001b[0m             \u001b[0;32mif\u001b[0m \u001b[0mreport\u001b[0m \u001b[0;32mis\u001b[0m \u001b[0mNone\u001b[0m\u001b[0;34m:\u001b[0m  \u001b[0;31m# a thread reporting that it finished\u001b[0m\u001b[0;34m\u001b[0m\u001b[0m\n\u001b[1;32m   1015\u001b[0m                 \u001b[0munfinished_worker_count\u001b[0m \u001b[0;34m-=\u001b[0m \u001b[0;36m1\u001b[0m\u001b[0;34m\u001b[0m\u001b[0m\n",
      "\u001b[0;32m/home/dhingratul/anaconda2/lib/python2.7/Queue.pyc\u001b[0m in \u001b[0;36mget\u001b[0;34m(self, block, timeout)\u001b[0m\n\u001b[1;32m    166\u001b[0m             \u001b[0;32melif\u001b[0m \u001b[0mtimeout\u001b[0m \u001b[0;32mis\u001b[0m \u001b[0mNone\u001b[0m\u001b[0;34m:\u001b[0m\u001b[0;34m\u001b[0m\u001b[0m\n\u001b[1;32m    167\u001b[0m                 \u001b[0;32mwhile\u001b[0m \u001b[0;32mnot\u001b[0m \u001b[0mself\u001b[0m\u001b[0;34m.\u001b[0m\u001b[0m_qsize\u001b[0m\u001b[0;34m(\u001b[0m\u001b[0;34m)\u001b[0m\u001b[0;34m:\u001b[0m\u001b[0;34m\u001b[0m\u001b[0m\n\u001b[0;32m--> 168\u001b[0;31m                     \u001b[0mself\u001b[0m\u001b[0;34m.\u001b[0m\u001b[0mnot_empty\u001b[0m\u001b[0;34m.\u001b[0m\u001b[0mwait\u001b[0m\u001b[0;34m(\u001b[0m\u001b[0;34m)\u001b[0m\u001b[0;34m\u001b[0m\u001b[0m\n\u001b[0m\u001b[1;32m    169\u001b[0m             \u001b[0;32melif\u001b[0m \u001b[0mtimeout\u001b[0m \u001b[0;34m<\u001b[0m \u001b[0;36m0\u001b[0m\u001b[0;34m:\u001b[0m\u001b[0;34m\u001b[0m\u001b[0m\n\u001b[1;32m    170\u001b[0m                 \u001b[0;32mraise\u001b[0m \u001b[0mValueError\u001b[0m\u001b[0;34m(\u001b[0m\u001b[0;34m\"'timeout' must be a non-negative number\"\u001b[0m\u001b[0;34m)\u001b[0m\u001b[0;34m\u001b[0m\u001b[0m\n",
      "\u001b[0;32m/home/dhingratul/anaconda2/lib/python2.7/threading.pyc\u001b[0m in \u001b[0;36mwait\u001b[0;34m(self, timeout)\u001b[0m\n\u001b[1;32m    338\u001b[0m         \u001b[0;32mtry\u001b[0m\u001b[0;34m:\u001b[0m    \u001b[0;31m# restore state no matter what (e.g., KeyboardInterrupt)\u001b[0m\u001b[0;34m\u001b[0m\u001b[0m\n\u001b[1;32m    339\u001b[0m             \u001b[0;32mif\u001b[0m \u001b[0mtimeout\u001b[0m \u001b[0;32mis\u001b[0m \u001b[0mNone\u001b[0m\u001b[0;34m:\u001b[0m\u001b[0;34m\u001b[0m\u001b[0m\n\u001b[0;32m--> 340\u001b[0;31m                 \u001b[0mwaiter\u001b[0m\u001b[0;34m.\u001b[0m\u001b[0macquire\u001b[0m\u001b[0;34m(\u001b[0m\u001b[0;34m)\u001b[0m\u001b[0;34m\u001b[0m\u001b[0m\n\u001b[0m\u001b[1;32m    341\u001b[0m                 \u001b[0;32mif\u001b[0m \u001b[0m__debug__\u001b[0m\u001b[0;34m:\u001b[0m\u001b[0;34m\u001b[0m\u001b[0m\n\u001b[1;32m    342\u001b[0m                     \u001b[0mself\u001b[0m\u001b[0;34m.\u001b[0m\u001b[0m_note\u001b[0m\u001b[0;34m(\u001b[0m\u001b[0;34m\"%s.wait(): got it\"\u001b[0m\u001b[0;34m,\u001b[0m \u001b[0mself\u001b[0m\u001b[0;34m)\u001b[0m\u001b[0;34m\u001b[0m\u001b[0m\n",
      "\u001b[0;31mKeyboardInterrupt\u001b[0m: "
     ]
    }
   ],
   "source": [
    "thrones2vec.train(sentences, total_words=token_count, epochs=100)"
   ]
  },
  {
   "cell_type": "markdown",
   "metadata": {},
   "source": [
    "**Save to file, can be useful later**"
   ]
  },
  {
   "cell_type": "code",
   "execution_count": 32,
   "metadata": {
    "collapsed": true
   },
   "outputs": [],
   "source": [
    "if not os.path.exists(\"trained\"):\n",
    "    os.makedirs(\"trained\")"
   ]
  },
  {
   "cell_type": "code",
   "execution_count": 33,
   "metadata": {},
   "outputs": [
    {
     "name": "stderr",
     "output_type": "stream",
     "text": [
      "2017-11-13 22:23:00,707 : INFO : saving Word2Vec object under trained/thrones2vec_tr.w2v, separately None\n",
      "2017-11-13 22:23:00,708 : INFO : not storing attribute syn0norm\n",
      "2017-11-13 22:23:00,709 : INFO : not storing attribute cum_table\n",
      "2017-11-13 22:23:00,936 : INFO : saved trained/thrones2vec_tr.w2v\n"
     ]
    }
   ],
   "source": [
    "thrones2vec.save(os.path.join(\"trained\", \"thrones2vec_tr.w2v\"))"
   ]
  },
  {
   "cell_type": "markdown",
   "metadata": {},
   "source": [
    "## Explore the trained model."
   ]
  },
  {
   "cell_type": "code",
   "execution_count": 4,
   "metadata": {},
   "outputs": [],
   "source": [
    "# thrones2vec_release from Yuriy Guts original model, available here https://github.com/YuriyGuts/thrones2vec/releases\n",
    "# Load thrones2vec for loading the model trained\n",
    "thrones2vec = w2v.Word2Vec.load(os.path.join(\"trained\", \"thrones2vec.w2v\"))"
   ]
  },
  {
   "cell_type": "markdown",
   "metadata": {},
   "source": [
    "### Compress the word vectors into 2D space and plot them"
   ]
  },
  {
   "cell_type": "code",
   "execution_count": 5,
   "metadata": {
    "collapsed": true
   },
   "outputs": [],
   "source": [
    "tsne = sklearn.manifold.TSNE(n_components=2, random_state=0)"
   ]
  },
  {
   "cell_type": "code",
   "execution_count": 6,
   "metadata": {
    "collapsed": true
   },
   "outputs": [],
   "source": [
    "all_word_vectors_matrix = thrones2vec.wv.syn0"
   ]
  },
  {
   "cell_type": "markdown",
   "metadata": {},
   "source": [
    "**Train t-SNE, this could take a minute or two...**"
   ]
  },
  {
   "cell_type": "code",
   "execution_count": 7,
   "metadata": {
    "collapsed": true
   },
   "outputs": [],
   "source": [
    "all_word_vectors_matrix_2d = tsne.fit_transform(all_word_vectors_matrix)"
   ]
  },
  {
   "cell_type": "markdown",
   "metadata": {},
   "source": [
    "**Plot the big picture**"
   ]
  },
  {
   "cell_type": "code",
   "execution_count": 8,
   "metadata": {
    "collapsed": true
   },
   "outputs": [],
   "source": [
    "points = pd.DataFrame(\n",
    "    [\n",
    "        (word, coords[0], coords[1])\n",
    "        for word, coords in [\n",
    "            (word, all_word_vectors_matrix_2d[thrones2vec.wv.vocab[word].index])\n",
    "            for word in thrones2vec.wv.vocab\n",
    "        ]\n",
    "    ],\n",
    "    columns=[\"word\", \"x\", \"y\"]\n",
    ")"
   ]
  },
  {
   "cell_type": "code",
   "execution_count": 9,
   "metadata": {},
   "outputs": [
    {
     "data": {
      "text/html": [
       "<div>\n",
       "<style>\n",
       "    .dataframe thead tr:only-child th {\n",
       "        text-align: right;\n",
       "    }\n",
       "\n",
       "    .dataframe thead th {\n",
       "        text-align: left;\n",
       "    }\n",
       "\n",
       "    .dataframe tbody tr th {\n",
       "        vertical-align: top;\n",
       "    }\n",
       "</style>\n",
       "<table border=\"1\" class=\"dataframe\">\n",
       "  <thead>\n",
       "    <tr style=\"text-align: right;\">\n",
       "      <th></th>\n",
       "      <th>word</th>\n",
       "      <th>x</th>\n",
       "      <th>y</th>\n",
       "    </tr>\n",
       "  </thead>\n",
       "  <tbody>\n",
       "    <tr>\n",
       "      <th>0</th>\n",
       "      <td>fawn</td>\n",
       "      <td>-4.470860</td>\n",
       "      <td>-0.406855</td>\n",
       "    </tr>\n",
       "    <tr>\n",
       "      <th>1</th>\n",
       "      <td>raining</td>\n",
       "      <td>2.432409</td>\n",
       "      <td>-1.825349</td>\n",
       "    </tr>\n",
       "    <tr>\n",
       "      <th>2</th>\n",
       "      <td>writings</td>\n",
       "      <td>-3.212095</td>\n",
       "      <td>1.967637</td>\n",
       "    </tr>\n",
       "    <tr>\n",
       "      <th>3</th>\n",
       "      <td>Ysilla</td>\n",
       "      <td>1.436866</td>\n",
       "      <td>-2.421560</td>\n",
       "    </tr>\n",
       "    <tr>\n",
       "      <th>4</th>\n",
       "      <td>Rory</td>\n",
       "      <td>-1.090941</td>\n",
       "      <td>-2.569549</td>\n",
       "    </tr>\n",
       "    <tr>\n",
       "      <th>5</th>\n",
       "      <td>hordes</td>\n",
       "      <td>-2.204853</td>\n",
       "      <td>2.614524</td>\n",
       "    </tr>\n",
       "    <tr>\n",
       "      <th>6</th>\n",
       "      <td>mustachio</td>\n",
       "      <td>-1.086925</td>\n",
       "      <td>-3.887781</td>\n",
       "    </tr>\n",
       "    <tr>\n",
       "      <th>7</th>\n",
       "      <td>Greyjoy</td>\n",
       "      <td>1.585396</td>\n",
       "      <td>3.667034</td>\n",
       "    </tr>\n",
       "    <tr>\n",
       "      <th>8</th>\n",
       "      <td>yellow</td>\n",
       "      <td>-0.813293</td>\n",
       "      <td>-5.425221</td>\n",
       "    </tr>\n",
       "    <tr>\n",
       "      <th>9</th>\n",
       "      <td>four</td>\n",
       "      <td>1.871287</td>\n",
       "      <td>2.557694</td>\n",
       "    </tr>\n",
       "  </tbody>\n",
       "</table>\n",
       "</div>"
      ],
      "text/plain": [
       "        word         x         y\n",
       "0       fawn -4.470860 -0.406855\n",
       "1    raining  2.432409 -1.825349\n",
       "2   writings -3.212095  1.967637\n",
       "3     Ysilla  1.436866 -2.421560\n",
       "4       Rory -1.090941 -2.569549\n",
       "5     hordes -2.204853  2.614524\n",
       "6  mustachio -1.086925 -3.887781\n",
       "7    Greyjoy  1.585396  3.667034\n",
       "8     yellow -0.813293 -5.425221\n",
       "9       four  1.871287  2.557694"
      ]
     },
     "execution_count": 9,
     "metadata": {},
     "output_type": "execute_result"
    }
   ],
   "source": [
    "points.head(10)"
   ]
  },
  {
   "cell_type": "code",
   "execution_count": 10,
   "metadata": {
    "collapsed": true
   },
   "outputs": [],
   "source": [
    "sns.set_context(\"poster\")"
   ]
  },
  {
   "cell_type": "code",
   "execution_count": 11,
   "metadata": {},
   "outputs": [
    {
     "data": {
      "text/plain": [
       "<matplotlib.axes._subplots.AxesSubplot at 0x7f45249415d0>"
      ]
     },
     "execution_count": 11,
     "metadata": {},
     "output_type": "execute_result"
    }
   ],
   "source": [
    "points.plot.scatter(\"x\", \"y\", s=10, figsize=(20, 12))"
   ]
  },
  {
   "cell_type": "markdown",
   "metadata": {
    "collapsed": true
   },
   "source": [
    "**Zoom in to some interesting places**"
   ]
  },
  {
   "cell_type": "code",
   "execution_count": 18,
   "metadata": {
    "collapsed": true
   },
   "outputs": [],
   "source": [
    "def plot_region(x_bounds, y_bounds):\n",
    "    slice = points[\n",
    "        (x_bounds[0] <= points.x) &\n",
    "        (points.x <= x_bounds[1]) & \n",
    "        (y_bounds[0] <= points.y) &\n",
    "        (points.y <= y_bounds[1])\n",
    "    ]\n",
    "    \n",
    "    ax = slice.plot.scatter(\"x\", \"y\", s=35, figsize=(10, 8))\n",
    "    for i, point in slice.iterrows():\n",
    "        ax.text(point.x + 0.005, point.y + 0.005, point.word, fontsize=11)"
   ]
  },
  {
   "cell_type": "code",
   "execution_count": 19,
   "metadata": {},
   "outputs": [
    {
     "name": "stdout",
     "output_type": "stream",
     "text": [
      "Range of t-sne viz in x = -6.74806087861, 4.55522586498 and y = -5.82336640225, 5.13464727782\n"
     ]
    }
   ],
   "source": [
    "print(\"Range of t-sne viz in x = {}, {} and y = {}, {}\" .format(min(points.x), max(points.x), min(points.y), max(points.y)))"
   ]
  },
  {
   "cell_type": "markdown",
   "metadata": {},
   "source": []
  },
  {
   "cell_type": "code",
   "execution_count": 33,
   "metadata": {},
   "outputs": [
    {
     "data": {
      "image/png": "[encoded data removed]",
      "text/plain": [
       "<matplotlib.figure.Figure at 0x7f45248a1890>"
      ]
     },
     "metadata": {},
     "output_type": "display_data"
    }
   ],
   "source": [
    "plot_region(x_bounds=(4.0, 4.2), y_bounds=(-0.5, -0.1)) \n",
    "# People related to Kingsguard ended up together"
   ]
  },
  {
   "cell_type": "code",
   "execution_count": 34,
   "metadata": {},
   "outputs": [
    {
     "data": {
      "image/png": "[encoded data removed]",
      "text/plain": [
       "<matplotlib.figure.Figure at 0x7f4524712510>"
      ]
     },
     "metadata": {},
     "output_type": "display_data"
    }
   ],
   "source": [
    "plot_region(x_bounds=(0, 1), y_bounds=(4, 4.5))"
   ]
  },
  {
   "cell_type": "markdown",
   "metadata": {},
   "source": [
    "**Food products are grouped nicely as well. Aerys (The Mad King) being close to \"roasted\" also looks sadly correct**"
   ]
  },
  {
   "cell_type": "markdown",
   "metadata": {},
   "source": [
    "### Explore semantic similarities between book characters"
   ]
  },
  {
   "cell_type": "markdown",
   "metadata": {},
   "source": [
    "**Words closest to the given word**"
   ]
  },
  {
   "cell_type": "code",
   "execution_count": 22,
   "metadata": {},
   "outputs": [
    {
     "data": {
      "text/plain": [
       "[(u'Asha', 0.7739040851593018),\n",
       " (u'Bran', 0.6934014558792114),\n",
       " (u'Cressen', 0.6879198551177979),\n",
       " (u'Greyjoy', 0.6850864887237549),\n",
       " (u'Wex', 0.6631527543067932),\n",
       " (u'Hotah', 0.6585578918457031),\n",
       " (u'Robb', 0.6575249433517456),\n",
       " (u'Reek', 0.6442864537239075),\n",
       " (u'Arya', 0.6286992430686951),\n",
       " (u'Denyo', 0.6277047395706177)]"
      ]
     },
     "execution_count": 22,
     "metadata": {},
     "output_type": "execute_result"
    }
   ],
   "source": [
    "thrones2vec.most_similar(\"Theon\")"
   ]
  },
  {
   "cell_type": "code",
   "execution_count": 23,
   "metadata": {},
   "outputs": [
    {
     "data": {
      "text/plain": [
       "[(u'Unburnt', 0.8507828712463379),\n",
       " (u'Stormborn', 0.815880537033081),\n",
       " (u'Khaleesi', 0.7907167673110962),\n",
       " (u'Mother', 0.7906662225723267),\n",
       " (u'khaleesi', 0.7895367741584778),\n",
       " (u'Shackles', 0.7814539074897766),\n",
       " (u'Breaker', 0.7562315464019775),\n",
       " (u'warlocks', 0.7459860444068909),\n",
       " (u'fairest', 0.7372589111328125),\n",
       " (u'Grass', 0.7342460751533508)]"
      ]
     },
     "execution_count": 23,
     "metadata": {},
     "output_type": "execute_result"
    }
   ],
   "source": [
    "thrones2vec.most_similar(\"Dragons\")"
   ]
  },
  {
   "cell_type": "code",
   "execution_count": 24,
   "metadata": {},
   "outputs": [
    {
     "data": {
      "text/plain": [
       "[(u'Rickon', 0.6617892980575562),\n",
       " (u'SHAGGYDOG', 0.643834114074707),\n",
       " (u'wolf', 0.6403605937957764),\n",
       " (u'GHOST', 0.6385752558708191),\n",
       " (u'pup', 0.6156360507011414),\n",
       " (u'Robb', 0.6147520542144775),\n",
       " (u'Stark', 0.6143664121627808),\n",
       " (u'crannogman', 0.6082614660263062),\n",
       " (u'wight', 0.6066144108772278),\n",
       " (u'RICKON', 0.6039268970489502)]"
      ]
     },
     "execution_count": 24,
     "metadata": {},
     "output_type": "execute_result"
    }
   ],
   "source": [
    "thrones2vec.most_similar(\"direwolf\")"
   ]
  },
  {
   "cell_type": "markdown",
   "metadata": {},
   "source": [
    "**Linear relationships between word pairs**"
   ]
  },
  {
   "cell_type": "code",
   "execution_count": 25,
   "metadata": {
    "collapsed": true
   },
   "outputs": [],
   "source": [
    "def nearest_similarity_cosmul(start1, end1, end2):\n",
    "    similarities = thrones2vec.most_similar_cosmul(\n",
    "        positive=[end2, start1],\n",
    "        negative=[end1]\n",
    "    )\n",
    "    start2 = similarities[0][0]\n",
    "    print(\"{start1} is related to {end1}, as {start2} is related to {end2}\".format(**locals()))\n",
    "    return start2"
   ]
  },
  {
   "cell_type": "code",
   "execution_count": 26,
   "metadata": {},
   "outputs": [
    {
     "name": "stdout",
     "output_type": "stream",
     "text": [
      "Stark is related to Winterfell, as Doran is related to Martell\n",
      "Stark is related to Winterfell, as Roose is related to Bolton\n",
      "Arya is related to Horseface, as Dany is related to Daenerys\n",
      "Stark is related to Winterfell, as Tully is related to Riverrun\n",
      "Jaime is related to sword, as Tyrion is related to wine\n",
      "Arya is related to Nymeria, as Dany is related to dragons\n",
      "Jon is related to Snow, as Sand is related to Ellaria\n"
     ]
    },
    {
     "data": {
      "text/plain": [
       "u'Sand'"
      ]
     },
     "execution_count": 26,
     "metadata": {},
     "output_type": "execute_result"
    }
   ],
   "source": [
    "nearest_similarity_cosmul(\"Stark\", \"Winterfell\", \"Martell\") #Leader\n",
    "nearest_similarity_cosmul(\"Stark\", \"Winterfell\", \"Bolton\")  # Head of families\n",
    "nearest_similarity_cosmul(\"Arya\", \"Horseface\", \"Daenerys\") # Nicknames\n",
    "nearest_similarity_cosmul(\"Stark\", \"Winterfell\", \"Riverrun\") # Leaders \n",
    "nearest_similarity_cosmul(\"Jaime\", \"sword\", \"wine\") # The Imp\n",
    "nearest_similarity_cosmul(\"Arya\", \"Nymeria\", \"dragons\") # Mystic/Extinct creatures\n",
    "nearest_similarity_cosmul(\"Jon\", \"Snow\", \"Ellaria\") # Bastards in North/Dorne"
   ]
  },
  {
   "cell_type": "code",
   "execution_count": 27,
   "metadata": {},
   "outputs": [
    {
     "data": {
      "text/plain": [
       "'Jon'"
      ]
     },
     "execution_count": 27,
     "metadata": {},
     "output_type": "execute_result"
    }
   ],
   "source": [
    "thrones2vec.wv.doesnt_match(\"Robb Jon Arya Sansa Rickon Brandon\".split())  #Finding the bastard or (Spoilers)"
   ]
  },
  {
   "cell_type": "code",
   "execution_count": 28,
   "metadata": {},
   "outputs": [
    {
     "data": {
      "text/plain": [
       "'Daenerys'"
      ]
     },
     "execution_count": 28,
     "metadata": {},
     "output_type": "execute_result"
    }
   ],
   "source": [
    "thrones2vec.wv.doesnt_match(\"Tyrion Daenerys Gendry Bran Jon\".split())  #Iron Throne contenders"
   ]
  },
  {
   "cell_type": "code",
   "execution_count": 29,
   "metadata": {},
   "outputs": [
    {
     "data": {
      "text/plain": [
       "'Robert'"
      ]
     },
     "execution_count": 29,
     "metadata": {},
     "output_type": "execute_result"
    }
   ],
   "source": [
    "thrones2vec.wv.doesnt_match(\"Jaime Cersei Robert\".split())  "
   ]
  },
  {
   "cell_type": "code",
   "execution_count": 60,
   "metadata": {},
   "outputs": [
    {
     "data": {
      "text/plain": [
       "'Ellaria'"
      ]
     },
     "execution_count": 60,
     "metadata": {},
     "output_type": "execute_result"
    }
   ],
   "source": [
    "thrones2vec.wv.doesnt_match(\"Ramsay Jon Ellaria \".split())  #Iron Throne contenders"
   ]
  },
  {
   "cell_type": "code",
   "execution_count": null,
   "metadata": {
    "collapsed": true
   },
   "outputs": [],
   "source": []
  }
 ],
 "metadata": {
  "kernelspec": {
   "display_name": "Python 2",
   "language": "python",
   "name": "python2"
  },
  "language_info": {
   "codemirror_mode": {
    "name": "ipython",
    "version": 2
   },
   "file_extension": ".py",
   "mimetype": "text/x-python",
   "name": "python",
   "nbconvert_exporter": "python",
   "pygments_lexer": "ipython2",
   "version": "2.7.13"
  }
 },
 "nbformat": 4,
 "nbformat_minor": 1
}
